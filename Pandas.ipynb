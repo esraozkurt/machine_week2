{
  "metadata": {
    "language_info": {
      "codemirror_mode": {
        "name": "python",
        "version": 3
      },
      "file_extension": ".py",
      "mimetype": "text/x-python",
      "name": "python",
      "nbconvert_exporter": "python",
      "pygments_lexer": "ipython3",
      "version": "3.8"
    },
    "kernelspec": {
      "name": "python",
      "display_name": "Pyolite",
      "language": "python"
    },
    "colab": {
      "name": "Pandas.ipynb",
      "provenance": [],
      "collapsed_sections": []
    }
  },
  "nbformat_minor": 0,
  "nbformat": 4,
  "cells": [
    {
      "cell_type": "code",
      "source": [
        "import numpy as np\n",
        "import pandas as pd"
      ],
      "metadata": {
        "trusted": true,
        "id": "lBU-WFNpsFEd"
      },
      "execution_count": null,
      "outputs": []
    },
    {
      "cell_type": "code",
      "source": [
        "#Created 5x2 NumPy array\n",
        "my_data = np.array([[0, 3], [10, 7], [20, 9], [30, 14], [40, 15]])\n",
        "\n",
        "#Python list generated\n",
        "my_column_names = ['temperature', 'activity']\n",
        "\n",
        "#DataFrame created\n",
        "my_dataframe = pd.DataFrame(data=my_data, columns=my_column_names)\n",
        "\n",
        "#all DataFrame is printed\n",
        "print(my_dataframe)"
      ],
      "metadata": {
        "trusted": true,
        "id": "PTG2JK4DsFEf",
        "outputId": "52936c39-bb2d-41fa-b79e-973ab98f4896"
      },
      "execution_count": null,
      "outputs": [
        {
          "name": "stdout",
          "text": "   temperature  activity\n0            0         3\n1           10         7\n2           20         9\n3           30        14\n4           40        15\n",
          "output_type": "stream"
        }
      ]
    },
    {
      "cell_type": "code",
      "source": [
        "#a new column has been created\n",
        "my_dataframe[\"adjusted\"] = my_dataframe[\"activity\"] + 2\n",
        "\n",
        "#all DataFrame is printed\n",
        "print(my_dataframe)"
      ],
      "metadata": {
        "trusted": true,
        "id": "F8s7Yjc3sFEh",
        "outputId": "ab045e79-5150-48f6-8e02-bcd3f684c5b9"
      },
      "execution_count": null,
      "outputs": [
        {
          "name": "stdout",
          "text": "   temperature  activity  adjusted\n0            0         3         5\n1           10         7         9\n2           20         9        11\n3           30        14        16\n4           40        15        17\n",
          "output_type": "stream"
        }
      ]
    },
    {
      "cell_type": "code",
      "source": [
        "#specified row/columns are printed\n",
        "print(\"Rows #0, #1, and #2:\")\n",
        "print(my_dataframe.head(3), '\\n')\n",
        "\n",
        "print(\"Row #2:\")\n",
        "print(my_dataframe.iloc[[2]], '\\n')\n",
        "\n",
        "print(\"Rows #1, #2, and #3:\")\n",
        "print(my_dataframe[1:4], '\\n')\n",
        "\n",
        "print(\"Column 'temperature':\")\n",
        "print(my_dataframe['temperature'])"
      ],
      "metadata": {
        "trusted": true,
        "id": "x-PMUzMCsFEi",
        "outputId": "30ee16f7-8d62-48a6-ab4b-2c0833d60bf6"
      },
      "execution_count": null,
      "outputs": [
        {
          "name": "stdout",
          "text": "Rows #0, #1, and #2:\n   temperature  activity  adjusted\n0            0         3         5\n1           10        13         9\n2           20         9        11 \n\nRow #2:\n   temperature  activity  adjusted\n2           20         9        11 \n\nRows #1, #2, and #3:\n   temperature  activity  adjusted\n1           10        13         9\n2           20         9        11\n3           30        14        16 \n\nColumn 'temperature':\n0     0\n1    10\n2    20\n3    30\n4    40\nName: temperature, dtype: int32\n",
          "output_type": "stream"
        }
      ]
    },
    {
      "cell_type": "code",
      "source": [
        "#Python list generated\n",
        "my_column_names = ['Eleanor', 'Chidi', 'Tahani', 'Jason']\n",
        "\n",
        "#3x4 Numpy array created\n",
        "my_data = np.random.randint(low=0, high=101, size=(3, 4))\n",
        "\n",
        "#DataFrame created\n",
        "df = pd.DataFrame(data=my_data, columns=my_column_names)\n",
        "\n",
        "#all DataFrame is printed\n",
        "print(df)\n",
        "\n",
        "#the value is printed in row 1 of the Eleanor column\n",
        "print(\"\\nSecond row of the Eleanor column: %d\\n\" % df['Eleanor'][1])\n",
        "\n",
        "#Created a column named Janet whose content is the sum of the other two columns\n",
        "df['Janet'] = df['Tahani'] + df['Jason']\n",
        "\n",
        "#advanced DataFrame printed\n",
        "print(df)"
      ],
      "metadata": {
        "trusted": true,
        "id": "wHDrZUwgsFEj",
        "outputId": "34fdebc1-7f22-4052-c438-fc0cea4abe0a"
      },
      "execution_count": null,
      "outputs": [
        {
          "name": "stdout",
          "text": "   Eleanor  Chidi  Tahani  Jason\n0       39     87      62      0\n1       69     75      42     27\n2       98     94      18     75\n\nSecond row of the Eleanor column: 69\n\n   Eleanor  Chidi  Tahani  Jason  Janet\n0       39     87      62      0     62\n1       69     75      42     27     69\n2       98     94      18     75     93\n",
          "output_type": "stream"
        }
      ]
    },
    {
      "cell_type": "code",
      "source": [
        "#assigned a new variable my_dataframe\n",
        "print(\"Experiment with a reference:\")\n",
        "reference_to_df = df\n",
        "\n",
        "#the initial value of a particular cell is printed\n",
        "print(\"  Starting value of df: %d\" % df['Jason'][1])\n",
        "print(\"  Starting value of reference_to_df: %d\\n\" % reference_to_df['Jason'][1])\n",
        "\n",
        "#A cell in DataFrame has been changed\n",
        "df.at[1, 'Jason'] = df['Jason'][1] + 5\n",
        "print(\"  Updated df: %d\" % df['Jason'][1])\n",
        "print(\"  Updated reference_to_df: %d\\n\\n\" % reference_to_df['Jason'][1])\n",
        "\n",
        "#Created a real copy of my_dataframe\n",
        "print(\"Experiment with a true copy:\")\n",
        "copy_of_my_dataframe = my_dataframe.copy()\n",
        "\n",
        "#the initial value of a particular cell is printed\n",
        "print(\"  Starting value of my_dataframe: %d\" % my_dataframe['activity'][1])\n",
        "print(\"  Starting value of copy_of_my_dataframe: %d\\n\" % copy_of_my_dataframe['activity'][1])\n",
        "\n",
        "#A cell in DataFrame has been changed\n",
        "my_dataframe.at[1, 'activity'] = my_dataframe['activity'][1] + 3\n",
        "print(\"  Updated my_dataframe: %d\" % my_dataframe['activity'][1])\n",
        "print(\"  copy_of_my_dataframe does not get updated: %d\" % copy_of_my_dataframe['activity'][1])"
      ],
      "metadata": {
        "trusted": true,
        "id": "o3aTW9gfsFEj",
        "outputId": "cdc5e53d-7b23-4d99-86e1-bf5ee6fde702"
      },
      "execution_count": null,
      "outputs": [
        {
          "name": "stdout",
          "text": "Experiment with a reference:\n  Starting value of df: 32\n  Starting value of reference_to_df: 32\n\n  Updated df: 37\n  Updated reference_to_df: 37\n\n\nExperiment with a true copy:\n  Starting value of my_dataframe: 10\n  Starting value of copy_of_my_dataframe: 10\n\n  Updated my_dataframe: 13\n  copy_of_my_dataframe does not get updated: 10\n",
          "output_type": "stream"
        }
      ]
    }
  ]
}