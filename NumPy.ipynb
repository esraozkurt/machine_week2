{
  "metadata": {
    "language_info": {
      "codemirror_mode": {
        "name": "python",
        "version": 3
      },
      "file_extension": ".py",
      "mimetype": "text/x-python",
      "name": "python",
      "nbconvert_exporter": "python",
      "pygments_lexer": "ipython3",
      "version": "3.8"
    },
    "kernelspec": {
      "name": "python",
      "display_name": "Pyolite",
      "language": "python"
    },
    "colab": {
      "name": "NumPy.ipynb",
      "provenance": []
    }
  },
  "nbformat_minor": 0,
  "nbformat": 4,
  "cells": [
    {
      "cell_type": "code",
      "source": [
        "import numpy as np "
      ],
      "metadata": {
        "trusted": true,
        "id": "dK9LfbrDqLNe"
      },
      "execution_count": null,
      "outputs": []
    },
    {
      "cell_type": "code",
      "source": [
        "#Creates an array with 8 elements\n",
        "one_dimensional_array = np.array([1.5, 2.6, 3.7, 4.8, 6.9, 7.4, 8.2, 9.3])\n",
        "print(one_dimensional_array)"
      ],
      "metadata": {
        "trusted": true,
        "id": "vYtEpEKiqLNg",
        "outputId": "6afe2698-ff5b-49d5-a8d0-beb6cfab8f00"
      },
      "execution_count": null,
      "outputs": [
        {
          "name": "stdout",
          "text": "[1.5 2.6 3.7 4.8 6.9 7.4 8.2 9.3]\n",
          "output_type": "stream"
        }
      ]
    },
    {
      "cell_type": "code",
      "source": [
        "#A 3x2 matrix is ​​created\n",
        "two_dimensional_array = np.array([[1, 2], [3, 4], [5, 6]])\n",
        "print(two_dimensional_array)"
      ],
      "metadata": {
        "trusted": true,
        "id": "CnJqbsFdqLNi",
        "outputId": "c5bb09da-e54f-48ac-a90e-23fa13b05675"
      },
      "execution_count": null,
      "outputs": [
        {
          "name": "stdout",
          "text": "[[1 2]\n [3 4]\n [5 6]]\n",
          "output_type": "stream"
        }
      ]
    },
    {
      "cell_type": "code",
      "source": [
        "#array is filled with numbers 7-14\n",
        "sequence_of_integers = np.arange(7, 14)\n",
        "print(sequence_of_integers)"
      ],
      "metadata": {
        "trusted": true,
        "id": "c-nKgJL4qLNj",
        "outputId": "6151a62c-093e-44d9-f8f8-90d0810ceb53"
      },
      "execution_count": null,
      "outputs": [
        {
          "name": "stdout",
          "text": "[ 7  8  9 10 11 12 13]\n",
          "output_type": "stream"
        }
      ]
    },
    {
      "cell_type": "code",
      "source": [
        "#A random, 5-element array of 30-80 is generated\n",
        "random_integers_between_30_and_80 = np.random.randint(low=29, high=81, size=(5))\n",
        "print(random_integers_between_30_and_80)"
      ],
      "metadata": {
        "trusted": true,
        "id": "WyHlkq9QqLNj",
        "outputId": "184fd6b1-254a-4880-e378-1f177b6ea832"
      },
      "execution_count": null,
      "outputs": [
        {
          "name": "stdout",
          "text": "[38 54 50 46 57]\n",
          "output_type": "stream"
        }
      ]
    },
    {
      "cell_type": "code",
      "source": [
        "#Creates a random array of 6 float elements from 0.0 to 1.0\n",
        "random_floats_between_0_and_1 = np.random.random([6])\n",
        "print(random_floats_between_0_and_1)"
      ],
      "metadata": {
        "trusted": true,
        "id": "yzyLL4piqLNk",
        "outputId": "202ce767-de66-48bf-d610-8319ecd72198"
      },
      "execution_count": null,
      "outputs": [
        {
          "name": "stdout",
          "text": "[0.08228643 0.61741622 0.21906986 0.63555034 0.1988785  0.16942525]\n",
          "output_type": "stream"
        }
      ]
    },
    {
      "cell_type": "code",
      "source": [
        "#2.0 is added to the value of each element in the array\n",
        "random_floats_between_2_and_3 = random_floats_between_0_and_1 + 2.0\n",
        "print(random_floats_between_2_and_3)"
      ],
      "metadata": {
        "trusted": true,
        "id": "7j176eBlqLNk",
        "outputId": "9ca8aeb1-87ba-4813-b769-ed56cb228df1"
      },
      "execution_count": null,
      "outputs": [
        {
          "name": "stdout",
          "text": "[2.08228643 2.61741622 2.21906986 2.63555034 2.1988785  2.16942525]\n",
          "output_type": "stream"
        }
      ]
    },
    {
      "cell_type": "code",
      "source": [
        "#The value of each element in the array is multiplied by 3.0\n",
        "random_integers_between_100_and_300 = random_integers_between_30_and_80 * 3\n",
        "print(random_integers_between_100_and_300)"
      ],
      "metadata": {
        "trusted": true,
        "id": "2GWNVoUvqLNl",
        "outputId": "bcf07e78-aed0-4916-ed0c-bb5db4857a60"
      },
      "execution_count": null,
      "outputs": [
        {
          "name": "stdout",
          "text": "[114 162 150 138 171]\n",
          "output_type": "stream"
        }
      ]
    },
    {
      "cell_type": "code",
      "source": [
        "#An int array of 6 to 20 (inclusive) is assigned to a property called NumPy array.\n",
        "#15 values ​​are assigned to a NumPy array named Label\n",
        "feature = np.arange(6, 21)\n",
        "print(feature)\n",
        "label = (feature * 3) + 4\n",
        "print(label)"
      ],
      "metadata": {
        "trusted": true,
        "id": "3s0zVyjRqLNl",
        "outputId": "a013ac5a-90e4-42c2-b844-036813a58949"
      },
      "execution_count": null,
      "outputs": [
        {
          "name": "stdout",
          "text": "[ 6  7  8  9 10 11 12 13 14 15 16 17 18 19 20]\n[22 25 28 31 34 37 40 43 46 49 52 55 58 61 64]\n",
          "output_type": "stream"
        }
      ]
    },
    {
      "cell_type": "code",
      "source": [
        "#Each value assigned to the label is changed by adding a different random float value between -2 and +2\n",
        "noise = (np.random.random([15]) * 4) - 2\n",
        "print(noise)\n",
        "label = label + noise \n",
        "print(label)"
      ],
      "metadata": {
        "trusted": true,
        "id": "7UYOVwoXqLNm",
        "outputId": "6c078fee-111e-41b0-d5e4-3aeeb3a2ca8a"
      },
      "execution_count": null,
      "outputs": [
        {
          "name": "stdout",
          "text": "[ 0.74801615  0.34110674 -0.25355422  1.86648053 -1.7178096  -1.48426161\n  1.42446379 -1.76083569 -1.87356197  1.23393403  0.64686356  1.76359895\n -0.37732134  1.29057127  1.31921738]\n[22.74801615 25.34110674 27.74644578 32.86648053 32.2821904  35.51573839\n 41.42446379 41.23916431 44.12643803 50.23393403 52.64686356 56.76359895\n 57.62267866 62.29057127 65.31921738]\n",
          "output_type": "stream"
        }
      ]
    }
  ]
}